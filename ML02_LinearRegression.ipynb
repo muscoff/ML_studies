{
 "cells": [
  {
   "cell_type": "code",
   "execution_count": 113,
   "id": "e6a5ba6e",
   "metadata": {},
   "outputs": [],
   "source": [
    "import pandas as pd\n",
    "import numpy as np\n",
    "import sklearn\n",
    "from sklearn.model_selection import train_test_split\n",
    "from sklearn.linear_model import LinearRegression\n",
    "import matplotlib.pyplot as plt"
   ]
  },
  {
   "cell_type": "code",
   "execution_count": 114,
   "id": "3b06baea",
   "metadata": {},
   "outputs": [],
   "source": [
    "data = pd.read_csv('data.csv')"
   ]
  },
  {
   "cell_type": "code",
   "execution_count": 115,
   "id": "23d527d4",
   "metadata": {},
   "outputs": [
    {
     "name": "stdout",
     "output_type": "stream",
     "text": [
      "<class 'pandas.core.frame.DataFrame'>\n",
      "RangeIndex: 169 entries, 0 to 168\n",
      "Data columns (total 4 columns):\n",
      " #   Column    Non-Null Count  Dtype  \n",
      "---  ------    --------------  -----  \n",
      " 0   Duration  169 non-null    int64  \n",
      " 1   Pulse     169 non-null    int64  \n",
      " 2   Maxpulse  169 non-null    int64  \n",
      " 3   Calories  164 non-null    float64\n",
      "dtypes: float64(1), int64(3)\n",
      "memory usage: 5.4 KB\n"
     ]
    }
   ],
   "source": [
    "data.info()"
   ]
  },
  {
   "cell_type": "code",
   "execution_count": 116,
   "id": "88b00254",
   "metadata": {},
   "outputs": [
    {
     "data": {
      "text/html": [
       "<div>\n",
       "<style scoped>\n",
       "    .dataframe tbody tr th:only-of-type {\n",
       "        vertical-align: middle;\n",
       "    }\n",
       "\n",
       "    .dataframe tbody tr th {\n",
       "        vertical-align: top;\n",
       "    }\n",
       "\n",
       "    .dataframe thead th {\n",
       "        text-align: right;\n",
       "    }\n",
       "</style>\n",
       "<table border=\"1\" class=\"dataframe\">\n",
       "  <thead>\n",
       "    <tr style=\"text-align: right;\">\n",
       "      <th></th>\n",
       "      <th>Duration</th>\n",
       "      <th>Pulse</th>\n",
       "      <th>Maxpulse</th>\n",
       "      <th>Calories</th>\n",
       "    </tr>\n",
       "  </thead>\n",
       "  <tbody>\n",
       "    <tr>\n",
       "      <th>0</th>\n",
       "      <td>60</td>\n",
       "      <td>110</td>\n",
       "      <td>130</td>\n",
       "      <td>409.1</td>\n",
       "    </tr>\n",
       "    <tr>\n",
       "      <th>1</th>\n",
       "      <td>60</td>\n",
       "      <td>117</td>\n",
       "      <td>145</td>\n",
       "      <td>479.0</td>\n",
       "    </tr>\n",
       "    <tr>\n",
       "      <th>2</th>\n",
       "      <td>60</td>\n",
       "      <td>103</td>\n",
       "      <td>135</td>\n",
       "      <td>340.0</td>\n",
       "    </tr>\n",
       "    <tr>\n",
       "      <th>3</th>\n",
       "      <td>45</td>\n",
       "      <td>109</td>\n",
       "      <td>175</td>\n",
       "      <td>282.4</td>\n",
       "    </tr>\n",
       "    <tr>\n",
       "      <th>4</th>\n",
       "      <td>45</td>\n",
       "      <td>117</td>\n",
       "      <td>148</td>\n",
       "      <td>406.0</td>\n",
       "    </tr>\n",
       "  </tbody>\n",
       "</table>\n",
       "</div>"
      ],
      "text/plain": [
       "   Duration  Pulse  Maxpulse  Calories\n",
       "0        60    110       130     409.1\n",
       "1        60    117       145     479.0\n",
       "2        60    103       135     340.0\n",
       "3        45    109       175     282.4\n",
       "4        45    117       148     406.0"
      ]
     },
     "execution_count": 116,
     "metadata": {},
     "output_type": "execute_result"
    }
   ],
   "source": [
    "data.head()"
   ]
  },
  {
   "cell_type": "code",
   "execution_count": 117,
   "id": "3d0b3c80",
   "metadata": {},
   "outputs": [
    {
     "data": {
      "text/html": [
       "<div>\n",
       "<style scoped>\n",
       "    .dataframe tbody tr th:only-of-type {\n",
       "        vertical-align: middle;\n",
       "    }\n",
       "\n",
       "    .dataframe tbody tr th {\n",
       "        vertical-align: top;\n",
       "    }\n",
       "\n",
       "    .dataframe thead th {\n",
       "        text-align: right;\n",
       "    }\n",
       "</style>\n",
       "<table border=\"1\" class=\"dataframe\">\n",
       "  <thead>\n",
       "    <tr style=\"text-align: right;\">\n",
       "      <th></th>\n",
       "      <th>Duration</th>\n",
       "      <th>Pulse</th>\n",
       "      <th>Maxpulse</th>\n",
       "      <th>Calories</th>\n",
       "    </tr>\n",
       "  </thead>\n",
       "  <tbody>\n",
       "    <tr>\n",
       "      <th>count</th>\n",
       "      <td>169.000000</td>\n",
       "      <td>169.000000</td>\n",
       "      <td>169.000000</td>\n",
       "      <td>164.000000</td>\n",
       "    </tr>\n",
       "    <tr>\n",
       "      <th>mean</th>\n",
       "      <td>63.846154</td>\n",
       "      <td>107.461538</td>\n",
       "      <td>134.047337</td>\n",
       "      <td>375.790244</td>\n",
       "    </tr>\n",
       "    <tr>\n",
       "      <th>std</th>\n",
       "      <td>42.299949</td>\n",
       "      <td>14.510259</td>\n",
       "      <td>16.450434</td>\n",
       "      <td>266.379919</td>\n",
       "    </tr>\n",
       "    <tr>\n",
       "      <th>min</th>\n",
       "      <td>15.000000</td>\n",
       "      <td>80.000000</td>\n",
       "      <td>100.000000</td>\n",
       "      <td>50.300000</td>\n",
       "    </tr>\n",
       "    <tr>\n",
       "      <th>25%</th>\n",
       "      <td>45.000000</td>\n",
       "      <td>100.000000</td>\n",
       "      <td>124.000000</td>\n",
       "      <td>250.925000</td>\n",
       "    </tr>\n",
       "    <tr>\n",
       "      <th>50%</th>\n",
       "      <td>60.000000</td>\n",
       "      <td>105.000000</td>\n",
       "      <td>131.000000</td>\n",
       "      <td>318.600000</td>\n",
       "    </tr>\n",
       "    <tr>\n",
       "      <th>75%</th>\n",
       "      <td>60.000000</td>\n",
       "      <td>111.000000</td>\n",
       "      <td>141.000000</td>\n",
       "      <td>387.600000</td>\n",
       "    </tr>\n",
       "    <tr>\n",
       "      <th>max</th>\n",
       "      <td>300.000000</td>\n",
       "      <td>159.000000</td>\n",
       "      <td>184.000000</td>\n",
       "      <td>1860.400000</td>\n",
       "    </tr>\n",
       "  </tbody>\n",
       "</table>\n",
       "</div>"
      ],
      "text/plain": [
       "         Duration       Pulse    Maxpulse     Calories\n",
       "count  169.000000  169.000000  169.000000   164.000000\n",
       "mean    63.846154  107.461538  134.047337   375.790244\n",
       "std     42.299949   14.510259   16.450434   266.379919\n",
       "min     15.000000   80.000000  100.000000    50.300000\n",
       "25%     45.000000  100.000000  124.000000   250.925000\n",
       "50%     60.000000  105.000000  131.000000   318.600000\n",
       "75%     60.000000  111.000000  141.000000   387.600000\n",
       "max    300.000000  159.000000  184.000000  1860.400000"
      ]
     },
     "execution_count": 117,
     "metadata": {},
     "output_type": "execute_result"
    }
   ],
   "source": [
    "data.describe()"
   ]
  },
  {
   "cell_type": "markdown",
   "id": "08526f9a",
   "metadata": {},
   "source": [
    "Based on the information presented above, we can see that the count for duration, pulse and maxpulse are all 169 except for calories which has 164.\n",
    "This tells us that there are missing values present in the column of calories.\n",
    "\n",
    "From the observation as well, we can see that only 5 columns do not have data.\n",
    "We can either remove the rows with missing data or fill with the average of the column.\n",
    "It is usually advisable to fill the missing data with the average because you do not want to look too much information.\n",
    "\n",
    "But in this case, I am just going to remove the rows with missing data since it is just 5."
   ]
  },
  {
   "cell_type": "code",
   "execution_count": 118,
   "id": "67e30add",
   "metadata": {},
   "outputs": [],
   "source": [
    "data.dropna(inplace=True)"
   ]
  },
  {
   "cell_type": "code",
   "execution_count": 119,
   "id": "34de3681",
   "metadata": {},
   "outputs": [
    {
     "data": {
      "text/html": [
       "<div>\n",
       "<style scoped>\n",
       "    .dataframe tbody tr th:only-of-type {\n",
       "        vertical-align: middle;\n",
       "    }\n",
       "\n",
       "    .dataframe tbody tr th {\n",
       "        vertical-align: top;\n",
       "    }\n",
       "\n",
       "    .dataframe thead th {\n",
       "        text-align: right;\n",
       "    }\n",
       "</style>\n",
       "<table border=\"1\" class=\"dataframe\">\n",
       "  <thead>\n",
       "    <tr style=\"text-align: right;\">\n",
       "      <th></th>\n",
       "      <th>Duration</th>\n",
       "      <th>Pulse</th>\n",
       "      <th>Maxpulse</th>\n",
       "      <th>Calories</th>\n",
       "    </tr>\n",
       "  </thead>\n",
       "  <tbody>\n",
       "    <tr>\n",
       "      <th>Duration</th>\n",
       "      <td>1.000000</td>\n",
       "      <td>-0.160661</td>\n",
       "      <td>0.005679</td>\n",
       "      <td>0.922717</td>\n",
       "    </tr>\n",
       "    <tr>\n",
       "      <th>Pulse</th>\n",
       "      <td>-0.160661</td>\n",
       "      <td>1.000000</td>\n",
       "      <td>0.784631</td>\n",
       "      <td>0.025121</td>\n",
       "    </tr>\n",
       "    <tr>\n",
       "      <th>Maxpulse</th>\n",
       "      <td>0.005679</td>\n",
       "      <td>0.784631</td>\n",
       "      <td>1.000000</td>\n",
       "      <td>0.203813</td>\n",
       "    </tr>\n",
       "    <tr>\n",
       "      <th>Calories</th>\n",
       "      <td>0.922717</td>\n",
       "      <td>0.025121</td>\n",
       "      <td>0.203813</td>\n",
       "      <td>1.000000</td>\n",
       "    </tr>\n",
       "  </tbody>\n",
       "</table>\n",
       "</div>"
      ],
      "text/plain": [
       "          Duration     Pulse  Maxpulse  Calories\n",
       "Duration  1.000000 -0.160661  0.005679  0.922717\n",
       "Pulse    -0.160661  1.000000  0.784631  0.025121\n",
       "Maxpulse  0.005679  0.784631  1.000000  0.203813\n",
       "Calories  0.922717  0.025121  0.203813  1.000000"
      ]
     },
     "execution_count": 119,
     "metadata": {},
     "output_type": "execute_result"
    }
   ],
   "source": [
    "data.corr()"
   ]
  },
  {
   "cell_type": "markdown",
   "id": "bdf64199",
   "metadata": {},
   "source": [
    "From the correlation table above, we can see that there is good correlation between Duration and Calories, which means that the more an individual works out, the probability of burning more calories is high.\n",
    "\n",
    "Now, we are going to see how to predict the calories burnt based on our exercise duration, pulse and maxpulse"
   ]
  },
  {
   "cell_type": "code",
   "execution_count": 120,
   "id": "f0889e7d",
   "metadata": {},
   "outputs": [],
   "source": [
    "y = data['Calories']\n",
    "y = np.array(y)"
   ]
  },
  {
   "cell_type": "code",
   "execution_count": 121,
   "id": "3c1d390d",
   "metadata": {},
   "outputs": [],
   "source": [
    "X = data[['Duration', 'Pulse', 'Maxpulse']]\n",
    "X = np.array(X)"
   ]
  },
  {
   "cell_type": "markdown",
   "id": "37657261",
   "metadata": {},
   "source": [
    "I am going to train the data but I also want an accuracy which is greater than 0.9 hence I will use a while to check this"
   ]
  },
  {
   "cell_type": "code",
   "execution_count": 122,
   "id": "2b9521e1",
   "metadata": {},
   "outputs": [
    {
     "name": "stdout",
     "output_type": "stream",
     "text": [
      "Accuracy score 0.9550009804532518\n"
     ]
    }
   ],
   "source": [
    "while True:\n",
    "    X_train, X_test, y_train, y_test = train_test_split(X, y, test_size=0.1)\n",
    "    \n",
    "    model = LinearRegression()\n",
    "    model.fit(X_train, y_train)\n",
    "    \n",
    "    if model.score(X_test, y_test) > 0.9:\n",
    "        print(\"Accuracy score\", model.score(X_test, y_test))\n",
    "        break"
   ]
  },
  {
   "cell_type": "code",
   "execution_count": 123,
   "id": "5fb6168a",
   "metadata": {},
   "outputs": [],
   "source": [
    "predictions = model.predict(X_test)"
   ]
  },
  {
   "cell_type": "markdown",
   "id": "7b6db31a",
   "metadata": {},
   "source": [
    "I am going to print out the first 10 predictions made by our LinearRegression model"
   ]
  },
  {
   "cell_type": "code",
   "execution_count": 124,
   "id": "9746a118",
   "metadata": {},
   "outputs": [
    {
     "name": "stdout",
     "output_type": "stream",
     "text": [
      "Model predicts that if you work out for 60mins at a Pulse of 103 and Maxpluse of 133, you may burn 376.89 calories.\n",
      "Data shows that the actual calories burnt was 443.0 \n",
      "\n",
      "Model predicts that if you work out for 60mins at a Pulse of 97 and Maxpluse of 122, you may burn 270.06 calories.\n",
      "Data shows that the actual calories burnt was 234.0 \n",
      "\n",
      "Model predicts that if you work out for 60mins at a Pulse of 112 and Maxpluse of 146, you may burn 236.1 calories.\n",
      "Data shows that the actual calories burnt was 275.0 \n",
      "\n",
      "Model predicts that if you work out for 150mins at a Pulse of 97 and Maxpluse of 129, you may burn 1522.65 calories.\n",
      "Data shows that the actual calories burnt was 1729.0 \n",
      "\n",
      "Model predicts that if you work out for 20mins at a Pulse of 110 and Maxpluse of 130, you may burn 919.04 calories.\n",
      "Data shows that the actual calories burnt was 853.0 \n",
      "\n",
      "Model predicts that if you work out for 45mins at a Pulse of 90 and Maxpluse of 112, you may burn 343.97 calories.\n",
      "Data shows that the actual calories burnt was 397.0 \n",
      "\n",
      "Model predicts that if you work out for 60mins at a Pulse of 102 and Maxpluse of 127, you may burn 409.84 calories.\n",
      "Data shows that the actual calories burnt was 387.6 \n",
      "\n",
      "Model predicts that if you work out for 30mins at a Pulse of 109 and Maxpluse of 131, you may burn 388.54 calories.\n",
      "Data shows that the actual calories burnt was 310.2 \n",
      "\n",
      "Model predicts that if you work out for 150mins at a Pulse of 105 and Maxpluse of 135, you may burn 349.57 calories.\n",
      "Data shows that the actual calories burnt was 342.5 \n",
      "\n",
      "Model predicts that if you work out for 150mins at a Pulse of 97 and Maxpluse of 127, you may burn 336.89 calories.\n",
      "Data shows that the actual calories burnt was 353.2 \n",
      "\n"
     ]
    }
   ],
   "source": [
    "for i in range(len(predictions)):\n",
    "    if i < 10:\n",
    "        string = f\"Model predicts that if you work out for {X_train[i][0]}mins at a Pulse of {X_train[i][1]}\"\n",
    "        string += f\" and Maxpluse of {X_train[i][2]}, you may burn {round(predictions[i], 2)} calories.\\n\"\n",
    "        string += f\"Data shows that the actual calories burnt was {y_test[i]} \\n\"\n",
    "        print(string)"
   ]
  },
  {
   "cell_type": "markdown",
   "id": "0837a7fe",
   "metadata": {},
   "source": [
    "Now, I will plot a scatter graph for Duration and calories"
   ]
  },
  {
   "cell_type": "code",
   "execution_count": 125,
   "id": "23df20a1",
   "metadata": {},
   "outputs": [
    {
     "data": {
      "image/png": "[encoded data removed]",
      "text/plain": [
       "<Figure size 432x288 with 1 Axes>"
      ]
     },
     "metadata": {
      "needs_background": "light"
     },
     "output_type": "display_data"
    }
   ],
   "source": [
    "data.plot(kind = 'scatter', x = 'Duration', y = 'Calories')\n",
    "plt.show()"
   ]
  },
  {
   "cell_type": "markdown",
   "id": "126e218f",
   "metadata": {},
   "source": [
    "From the graph, we can see that the more time an individual spent on working out, the more calories they burn.\n",
    "Individuals working from 200 minutes to 300 minutes are burning more calories than those working less or close to 50 mins"
   ]
  },
  {
   "cell_type": "code",
   "execution_count": null,
   "id": "9ac63bee",
   "metadata": {},
   "outputs": [],
   "source": []
  }
 ],
 "metadata": {
  "kernelspec": {
   "display_name": "Python 3 (ipykernel)",
   "language": "python",
   "name": "python3"
  },
  "language_info": {
   "codemirror_mode": {
    "name": "ipython",
    "version": 3
   },
   "file_extension": ".py",
   "mimetype": "text/x-python",
   "name": "python",
   "nbconvert_exporter": "python",
   "pygments_lexer": "ipython3",
   "version": "3.7.3"
  }
 },
 "nbformat": 4,
 "nbformat_minor": 5
}
